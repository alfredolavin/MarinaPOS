{
 "cells": [
  {
   "cell_type": "code",
   "execution_count": 8,
   "metadata": {
    "vscode": {
     "languageId": "python"
    }
   },
   "outputs": [],
   "source": [
    "%LOAD postgresql host=localhost dbname=farmacia user=farmacia password='caracteres' port=5432"
   ]
  },
  {
   "cell_type": "code",
   "execution_count": 9,
   "metadata": {
    "vscode": {
     "languageId": "python"
    }
   },
   "outputs": [
    {
     "ename": "Error",
     "evalue": "Cannot execute query. Fatal error. ERROR:  relation \"comentario\" already exists\n while executing \"CREATE TABLE comentario(\n  tabla name NOT NULL,\n  objeto_id integer NOT NULL,\n  momento timestamp NOT NULL DEFAULT NOW(),\n  comentario text NOT NULL,\n  CONSTRAINT comentarios1_pkey PRIMARY KEY(\n    tabla,\n    objeto_id\n  )\n);\n\n  CREATE INDEX comentario_momento_idx ON comentario(momento DESC);\".",
     "output_type": "error",
     "traceback": [
      "Error: Cannot execute query. Fatal error. ERROR:  relation \"comentario\" already exists\n while executing \"CREATE TABLE comentario(\n  tabla name NOT NULL,\n  objeto_id integer NOT NULL,\n  momento timestamp NOT NULL DEFAULT NOW(),\n  comentario text NOT NULL,\n  CONSTRAINT comentarios1_pkey PRIMARY KEY(\n    tabla,\n    objeto_id\n  )\n);\n\n  CREATE INDEX comentario_momento_idx ON comentario(momento DESC);\"."
     ]
    }
   ],
   "source": [
    "CREATE TABLE comentario(\n",
    "  tabla name NOT NULL,\n",
    "  objeto_id integer NOT NULL,\n",
    "  momento timestamp NOT NULL DEFAULT NOW(),\n",
    "  comentario text NOT NULL,\n",
    "  CONSTRAINT comentarios1_pkey PRIMARY KEY(\n",
    "    tabla,\n",
    "    objeto_id\n",
    "  )\n",
    ");\n",
    "\n",
    "  CREATE INDEX comentario_momento_idx ON comentario(momento DESC);"
   ]
  },
  {
   "cell_type": "code",
   "execution_count": 10,
   "metadata": {
    "vscode": {
     "languageId": "sql"
    }
   },
   "outputs": [
    {
     "ename": "Error",
     "evalue": "Cannot execute query. Fatal error. ERROR:  cannot use subquery in check constraint\n while executing \"ALTER TABLE comentario \nADD CONSTRAINT zipchk CHECK ( EXISTS(SELECT name FROM information_schema.tables WHERE name = tabla)) NO INHERIT;\".",
     "output_type": "error",
     "traceback": [
      "Error: Cannot execute query. Fatal error. ERROR:  cannot use subquery in check constraint\n while executing \"ALTER TABLE comentario \nADD CONSTRAINT zipchk CHECK ( EXISTS(SELECT name FROM information_schema.tables WHERE name = tabla)) NO INHERIT;\"."
     ]
    }
   ],
   "source": [
    "ALTER TABLE comentario \n",
    "ADD CONSTRAINT zipchk CHECK ( EXISTS(SELECT name FROM information_schema.tables WHERE name = tabla)) NO INHERIT;"
   ]
  },
  {
   "cell_type": "code",
   "execution_count": null,
   "metadata": {
    "vscode": {
     "languageId": "sql"
    }
   },
   "outputs": [],
   "source": []
  }
 ],
 "metadata": {
  "kernelspec": {
   "display_name": "xsql",
   "language": "sqlite",
   "name": "xsql"
  },
  "language_info": {
   "codemirror_mode": "sql",
   "file_extension": "",
   "mimetype": "",
   "name": "sqlite",
   "version": "0.2.1"
  }
 },
 "nbformat": 4,
 "nbformat_minor": 2
}
