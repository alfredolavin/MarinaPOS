{
 "cells": [
  {
   "cell_type": "code",
   "execution_count": 14,
   "metadata": {},
   "outputs": [],
   "source": [
    "from peewee import *"
   ]
  },
  {
   "cell_type": "code",
   "execution_count": 15,
   "metadata": {},
   "outputs": [],
   "source": [
    "# SQLite database using WAL journal mode and 64MB cache.\n",
    "db = SqliteDatabase('app.db', pragmas={\n",
    "    'journal_mode': 'wal',\n",
    "    'cache_size': -1024 * 64})"
   ]
  },
  {
   "cell_type": "code",
   "execution_count": 16,
   "metadata": {},
   "outputs": [],
   "source": [
    "# model definitions -- the standard \"pattern\" is to define a base model class\n",
    "# that specifies which database to use.  then, any subclasses will automatically\n",
    "# use the correct storage.\n",
    "class BaseModel(Model):\n",
    "    class Meta:\n",
    "        database = db\n",
    "\n",
    "# the user model specifies its fields (or columns) declaratively, like django\n",
    "class User(BaseModel):\n",
    "    username = CharField(unique=True)\n",
    "    password = CharField()\n",
    "    email = CharField()\n",
    "    join_date = DateTimeField()\n",
    "\n",
    "# this model contains two foreign keys to user -- it essentially allows us to\n",
    "# model a \"many-to-many\" relationship between users.  by querying and joining\n",
    "# on different columns we can expose who a user is \"related to\" and who is\n",
    "# \"related to\" a given user\n",
    "class Relationship(BaseModel):\n",
    "    from_user = ForeignKeyField(User, backref='relationships')\n",
    "    to_user = ForeignKeyField(User, backref='related_to')\n",
    "\n",
    "    class Meta:\n",
    "        # `indexes` is a tuple of 2-tuples, where the 2-tuples are\n",
    "        # a tuple of column names to index and a boolean indicating\n",
    "        # whether the index is unique or not.\n",
    "        indexes = (\n",
    "            # Specify a unique multi-column index on from/to-user.\n",
    "            (('from_user', 'to_user'), True),\n",
    "        )\n",
    "\n",
    "# a dead simple one-to-many relationship: one user has 0..n messages, exposed by\n",
    "# the foreign key. a users messages will be accessible as a special attribute,\n",
    "# User.messages.\n",
    "class Message(BaseModel):\n",
    "    user = ForeignKeyField(User, backref='messages')\n",
    "    content = TextField()\n",
    "    pub_date = DateTimeField()"
   ]
  },
  {
   "cell_type": "code",
   "execution_count": 17,
   "metadata": {},
   "outputs": [],
   "source": [
    "def create_tables():\n",
    "    with db:\n",
    "        db.create_tables([User, Relationship, Message])"
   ]
  },
  {
   "cell_type": "code",
   "execution_count": 18,
   "metadata": {},
   "outputs": [
    {
     "ename": "AttributeError",
     "evalue": "'NoneType' object has no attribute 'commit'",
     "output_type": "error",
     "traceback": [
      "\u001b[0;31m---------------------------------------------------------------------------\u001b[0m\n\u001b[0;31mAttributeError\u001b[0m                            Traceback (most recent call last)",
      "In  \u001b[0;34m[18]\u001b[0m:\nLine \u001b[0;34m1\u001b[0m:     \u001b[37m\u001b[39;49;00m\n",
      "File \u001b[0;34m/home/usr/.conda/envs/jupyter-lab/lib/python3.10/site-packages/peewee.py\u001b[0m, in \u001b[0;32mcommit\u001b[0m:\nLine \u001b[0;34m3774\u001b[0m:  \u001b[34mreturn\u001b[39;49;00m \u001b[36mself\u001b[39;49;00m._state.conn.commit()\u001b[37m\u001b[39;49;00m\n",
      "\u001b[0;31mAttributeError\u001b[0m: 'NoneType' object has no attribute 'commit'\n\u001b[0;31m---------------------------------------------------------------------------\u001b[0m"
     ]
    }
   ],
   "source": [
    "db.commit()"
   ]
  },
  {
   "cell_type": "code",
   "execution_count": 19,
   "metadata": {},
   "outputs": [
    {
     "data": {
      "text/plain": [
       "False"
      ]
     },
     "execution_count": 19,
     "metadata": {},
     "output_type": "execute_result"
    }
   ],
   "source": [
    "db.close()"
   ]
  },
  {
   "cell_type": "code",
   "execution_count": null,
   "metadata": {},
   "outputs": [],
   "source": []
  },
  {
   "cell_type": "code",
   "execution_count": null,
   "metadata": {},
   "outputs": [],
   "source": []
  }
 ],
 "metadata": {
  "kernelspec": {
   "display_name": "Python 3.10 (XPython Raw)",
   "language": "python",
   "name": "xpython-raw"
  },
  "language_info": {
   "file_extension": ".py",
   "mimetype": "text/x-python",
   "name": "python",
   "version": "3.10.11"
  },
  "orig_nbformat": 4
 },
 "nbformat": 4,
 "nbformat_minor": 2
}
