{
 "cells": [
  {
   "cell_type": "code",
   "execution_count": 9,
   "metadata": {},
   "outputs": [],
   "source": [
    "var data = [1,4,5,6,7,9,12,15,17,19,20,21,22,27,29,30,34,33,34,35,37,45,54,89,90,91,92]"
   ]
  },
  {
   "cell_type": "code",
   "execution_count": 13,
   "metadata": {},
   "outputs": [],
   "source": [
    "var get_ranges = (data)=>{\n",
    "data.push(null); \n",
    "return data.reduce((acc, val, i, self)=>{\n",
    "  if (acc.last !== null && val == acc.last + 1){\n",
    "    if (acc.cur_start == null){\n",
    "      acc.cur_start = val - 1;\n",
    "    }\n",
    "  }else{\n",
    "    if (acc.cur_start != null){\n",
    "      acc.ranges.push([acc.cur_start, acc.last]);\n",
    "      acc.cur_start = null;\n",
    "    }\n",
    "  }\n",
    "  acc.last = val;\n",
    "\n",
    "  if (i < self.length - 1){\n",
    "    return acc;\n",
    "  }else{\n",
    "    return acc.ranges;\n",
    "  }\n",
    "}, {last:null, ranges:[], cur_start:null})}"
   ]
  },
  {
   "cell_type": "code",
   "execution_count": 14,
   "metadata": {},
   "outputs": [
    {
     "name": "stdout",
     "output_type": "stream",
     "text": [
      "[ [ 1, 3 ] ]\n"
     ]
    }
   ],
   "source": [
    "get_ranges([1,2,3,5,5,8,45,6,4,7,9])"
   ]
  },
  {
   "cell_type": "code",
   "execution_count": 16,
   "metadata": {},
   "outputs": [],
   "source": [
    "var span = (c,i) => `<span class='${c}'>$${i}</span>`;"
   ]
  },
  {
   "cell_type": "code",
   "execution_count": 17,
   "metadata": {},
   "outputs": [
    {
     "name": "stdout",
     "output_type": "stream",
     "text": [
      "<span class='cantidad'>$3</span>\n"
     ]
    }
   ],
   "source": [
    "span(\"cantidad\",3)"
   ]
  },
  {
   "cell_type": "code",
   "execution_count": null,
   "metadata": {},
   "outputs": [],
   "source": []
  }
 ],
 "metadata": {
  "kernelspec": {
   "display_name": "JavaScript",
   "language": "javascript",
   "name": "jslab"
  },
  "language_info": {
   "file_extension": ".js",
   "mimetype": "text/javascript",
   "name": "javascript",
   "version": ""
  }
 },
 "nbformat": 4,
 "nbformat_minor": 2
}
