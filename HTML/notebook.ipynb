{
 "cells": [
  {
   "cell_type": "code",
   "execution_count": 6,
   "metadata": {},
   "outputs": [],
   "source": [
    "var t = '3x123456$100'\n",
    "var tests = [{'nombre':'tipo1', 're':/^(\\s*)(?<cantidad>\\d+)(\\s*)(?<equis>X)(\\s*)(?<codigo>\\w+)(\\s*)(?<signo_peso>\\$)(\\s*)(?<monto>\\d+)(\\s*)$/gi}]"
   ]
  },
  {
   "cell_type": "code",
   "execution_count": 7,
   "metadata": {},
   "outputs": [
    {
     "name": "stderr",
     "output_type": "stream",
     "text": [
      "3:8 - Cannot find name 'tokens'.\n",
      "5:19 - Cannot find name 'tokens'.\n"
     ]
    }
   ],
   "source": [
    "tests.forEach(\n",
    "  ts=>{\n",
    "    if(tokens = ts.re.exec(t)?.groups){\n",
    "      \n",
    "      console.log(tokens);}}\n",
    "\n",
    ")"
   ]
  },
  {
   "cell_type": "code",
   "execution_count": 8,
   "metadata": {},
   "outputs": [
    {
     "name": "stdout",
     "output_type": "stream",
     "text": [
      "[Object: null prototype] {\n",
      "  cantidad: '3',\n",
      "  equis: 'x',\n",
      "  codigo: '12345',\n",
      "  signo_peso: '$',\n",
      "  monto: '6100'\n",
      "}\n"
     ]
    }
   ],
   "source": [
    "tests[0].re.exec('3x12345$6100').groups"
   ]
  },
  {
   "cell_type": "code",
   "execution_count": null,
   "metadata": {},
   "outputs": [],
   "source": []
  }
 ],
 "metadata": {
  "kernelspec": {
   "display_name": "JavaScript",
   "language": "javascript",
   "name": "jslab"
  },
  "language_info": {
   "file_extension": ".js",
   "mimetype": "text/javascript",
   "name": "javascript",
   "version": ""
  }
 },
 "nbformat": 4,
 "nbformat_minor": 2
}
